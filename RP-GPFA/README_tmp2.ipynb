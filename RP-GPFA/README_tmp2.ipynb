{
 "cells": [],
 "metadata": {
  "kernelspec": {
   "display_name": "Python 3",
   "language": "python",
   "name": "python3"
  },
  "language_info": {
   "codemirror_mode": {
    "name": "ipython",
    "version": 2
   },
   "file_extension": ".py",
   "mimetype": "text/x-python",
   "name": "python",
   "nbconvert_exporter": "python",
   "pygments_lexer": "ipython2",
   "version": "2.7.6"
  },
  "pycharm": {
   "stem_cell": {
    "cell_type": "raw",
    "source": [
     "# Recognition Parametrised Model (RPM)\n",
     "\n",
     "Companion Code of [Walker\\*, Soulat\\*, Yu, Sahani\\* (2023)](https://arxiv.org/abs/2209.05661).\n",
     "\n",
     "1) `./AISTATS2023` contains the code necessary to reproduce the paper results\n",
     "\n",
     "2) `./RPGPFA` contains an up-to-date implementation of Recognition Parametrised Gaussian Process Factor analysis (*recommended*).\n",
     "\n",
     "\n"
    ],
    "metadata": {
     "collapsed": false
    }
   }
  }
 },
 "nbformat": 4,
 "nbformat_minor": 0
}