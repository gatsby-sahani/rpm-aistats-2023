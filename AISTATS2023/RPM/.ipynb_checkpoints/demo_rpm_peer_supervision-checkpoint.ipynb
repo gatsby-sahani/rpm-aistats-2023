{
 "cells": [
  {
   "cell_type": "code",
   "execution_count": 1,
   "metadata": {},
   "outputs": [],
   "source": [
    "import pickle\n",
    "import numpy as np\n",
    "from datetime import datetime\n",
    "import matplotlib.pyplot as plt\n",
    "\n",
    "import torch\n",
    "from torchvision import datasets\n",
    "from torchvision.transforms import ToTensor\n",
    "\n",
    "from utils import rearrange_mnist\n",
    "from unstructured_recognition_1DCategorical import UnstructuredRecognition\n",
    "\n",
    "# Load MNIST\n",
    "train_data = datasets.MNIST(\n",
    "    root='data',\n",
    "    train=True,\n",
    "    transform=ToTensor(),\n",
    "    download=True,\n",
    "    )\n",
    "\n",
    "test_data = datasets.MNIST(\n",
    "    root='data',\n",
    "    train=False,\n",
    "    transform=ToTensor()\n",
    "    )\n",
    "\n",
    "# Random seeds\n",
    "torch.manual_seed(1)\n",
    "\n",
    "# Number of Conditionally independent Factors\n",
    "num_factors = 2\n",
    "\n",
    "# Sub-Sample original dataset\n",
    "train_length = 60000\n",
    "\n",
    "# Keep Only some digits\n",
    "sub_ids = torch.tensor([0, 1, 2, 3, 4, 5, 6, 7, 8, 9])\n",
    "num_digits = len(sub_ids)\n",
    "\n",
    "# Rearrange MNIST by grouping num_factors Conditionally independent Observations together\n",
    "observations, train_images, train_labels = rearrange_mnist(\n",
    "    train_data.train_data, train_data.train_labels, num_factors, train_length=train_length, sub_ids=sub_ids)\n"
   ]
  },
  {
   "cell_type": "code",
   "execution_count": 2,
   "metadata": {
    "pycharm": {
     "name": "#%% Plot a quick illustration of how images are grouped together\n"
    }
   },
   "outputs": [
    {
     "data": {
      "image/png": "[encoded data removed]",
      "text/plain": [
       "<Figure size 864x288 with 12 Axes>"
      ]
     },
     "metadata": {
      "needs_background": "light"
     },
     "output_type": "display_data"
    }
   ],
   "source": [
    "num_plot = np.arange(6)\n",
    "plt.figure(figsize=(len(num_plot)*2, num_factors*2))\n",
    "for obsi in range(len(num_plot)):\n",
    "    for facti in range(num_factors):\n",
    "        plt.subplot(num_factors, len(num_plot), (1+obsi) + facti * len(num_plot))\n",
    "        plt.imshow(observations[facti][num_plot[obsi], :, :], cmap='gray')\n",
    "        plt.axis('off')"
   ]
  },
  {
   "cell_type": "code",
   "execution_count": null,
   "metadata": {
    "pycharm": {
     "name": "#%% Init and fit Model\n"
    }
   },
   "outputs": [
    {
     "name": "stdout",
     "output_type": "stream",
     "text": [
      "Iteration :1/1000 Loss 14992701000.0\n",
      "Iteration :2/1000 Loss 14992696000.0\n",
      "Iteration :3/1000 Loss 14992694000.0\n",
      "Iteration :4/1000 Loss 14992682000.0\n",
      "Iteration :5/1000 Loss 14992687000.0\n",
      "Iteration :6/1000 Loss 14992694000.0\n",
      "Iteration :7/1000 Loss 14992689000.0\n",
      "Iteration :8/1000 Loss 14992687000.0\n",
      "Iteration :9/1000 Loss 14992681000.0\n",
      "Iteration :10/1000 Loss 14992678000.0\n",
      "Iteration :11/1000 Loss 14992673000.0\n",
      "Iteration :12/1000 Loss 14992671000.0\n",
      "Iteration :13/1000 Loss 14992667000.0\n",
      "Iteration :14/1000 Loss 14992665000.0\n",
      "Iteration :15/1000 Loss 14992664000.0\n",
      "Iteration :16/1000 Loss 14992664000.0\n",
      "Iteration :17/1000 Loss 14992663000.0\n",
      "Iteration :18/1000 Loss 14992659000.0\n",
      "Iteration :19/1000 Loss 14992658000.0\n",
      "Iteration :20/1000 Loss 14992657000.0\n",
      "Iteration :21/1000 Loss 14992656000.0\n",
      "Iteration :22/1000 Loss 14992655000.0\n",
      "Iteration :23/1000 Loss 14992655000.0\n",
      "Iteration :24/1000 Loss 14992655000.0\n"
     ]
    }
   ],
   "source": [
    "# Fit Parameters\n",
    "fit_params = {\"ite_max\": 1000}\n",
    "\n",
    "# Init Model\n",
    "model = UnstructuredRecognition(num_digits, observations, fit_params=fit_params)\n",
    "\n",
    "# Fit model\n",
    "model.fit(observations)\n",
    "\n",
    "\n"
   ]
  },
  {
   "cell_type": "code",
   "execution_count": null,
   "metadata": {
    "pycharm": {
     "name": "#%% Load and summarize\n"
    }
   },
   "outputs": [],
   "source": [
    "# Save Model\n",
    "data_name = 'MNIST_UR_model' + datetime.now().strftime(\"%Y_%M_%d_%Hh%Mm%Ss\") + '.pkl'\n",
    "print(\"date and time =\", data_name)\n",
    "with open(data_name, 'wb') as f:  # Python 3: open(..., 'wb')\n",
    "    pickle.dump(model, f)\n",
    "\n",
    "# Load Model\n",
    "with open('MNIST_UR_model_99acc.pkl', 'rb') as f:\n",
    "    model = pickle.load(f)"
   ]
  },
  {
   "cell_type": "code",
   "execution_count": null,
   "metadata": {
    "pycharm": {
     "name": "#%%\n"
    }
   },
   "outputs": [],
   "source": [
    "# Deactivate dropouts\n",
    "model.recognition_network.eval()\n",
    "\n",
    "# Grasp Test set\n",
    "test_images = test_data.test_data[torch.isin(test_data.test_labels, sub_ids)]\n",
    "test_labels = test_data.test_labels[torch.isin(test_data.test_labels, sub_ids)]\n",
    "\n",
    "# Reduce training set\n",
    "reduce_training_set = 20000\n",
    "\n",
    "# Convert Test datasets\n",
    "test_tmp = torch.tensor(test_images.clone().detach(), dtype=torch.float32)\n",
    "\n",
    "# Use Recognition Network to classify digits\n",
    "train_predictions =\\\n",
    "    torch.argmax(model.recognition_network.forward(train_images[:reduce_training_set].unsqueeze(dim=1)), dim=1)\n",
    "test_predictions = \\\n",
    "    torch.argmax(model.recognition_network.forward(test_tmp.unsqueeze(dim=1)), dim=1)\n",
    "\n",
    "# Find best permutation between model clusters and digits identity\n",
    "perm_opt = model.permute_prediction(train_predictions, train_labels[:reduce_training_set], sub_ids)\n",
    "\n",
    "# Permute Labels\n",
    "train_predictions = perm_opt[train_predictions]\n",
    "test_predictions = perm_opt[test_predictions]\n",
    "\n",
    "# Train / Test performances\n",
    "train_accuracy = sum(abs(train_predictions-train_labels[:reduce_training_set]) < 0.1) / reduce_training_set\n",
    "test_accuracy = sum(abs(test_predictions-test_labels) < 0.01 ) / len(test_labels)\n",
    "\n",
    "# Summary\n",
    "train_results = str(np.round(train_accuracy.numpy(), 2))\n",
    "test_results = str(np.round(test_accuracy.numpy(), 2))\n",
    "\n",
    "# Plot And print summary\n",
    "plt.figure()\n",
    "plt.plot(model.loss_tot)\n",
    "plt.title('Accuracy Train / Test = ' + test_results + ' / ' + test_results)\n",
    "\n",
    "print('Training Accuracy = ' + train_results)\n",
    "print('Testing  Accuracy = ' + test_results)\n",
    "\n",
    "\n",
    "\n",
    "\n"
   ]
  }
 ],
 "metadata": {
  "kernelspec": {
   "display_name": "cyu",
   "language": "python",
   "name": "cyu"
  },
  "language_info": {
   "codemirror_mode": {
    "name": "ipython",
    "version": 3
   },
   "file_extension": ".py",
   "mimetype": "text/x-python",
   "name": "python",
   "nbconvert_exporter": "python",
   "pygments_lexer": "ipython3",
   "version": "3.7.11"
  }
 },
 "nbformat": 4,
 "nbformat_minor": 1
}
