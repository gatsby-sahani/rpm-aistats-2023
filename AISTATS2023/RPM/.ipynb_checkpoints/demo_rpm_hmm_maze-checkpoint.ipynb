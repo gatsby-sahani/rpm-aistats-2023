{
 "cells": [
  {
   "cell_type": "markdown",
   "metadata": {},
   "source": [
    "# Recognition Parametrized Model (RPM): HMM-MAZE\n",
    "\n",
    "\n",
    "Observations $x_t$ are MNIST renderings of digits that evolve according to Markovian transitions.  \n",
    "The RPM exploits this transition structure of the environment to learn good latent features.\n",
    "\n",
    "RMP infers the discrete-valued latent $z_t$ using a recognition network $f_\\theta(.|x_t)$ (without explicit label information). The model writes:\n",
    "\n",
    "$$   P(\\mathcal{X}, \\mathcal{Z}) = \\prod_t \\left( p_0(x_t) \\frac{f_{\\theta}(z_t|x_t)}{\\frac1N f_{\\theta}(z_t|x_t}) p(z_t | z_{t-1})\\right) \\pi(z_0)$$\n",
    "\n",
    "\n",
    "\n",
    "## Load MNIST\n"
   ]
  },
  {
   "cell_type": "code",
   "execution_count": 3,
   "metadata": {},
   "outputs": [],
   "source": [
    "import numpy as np\n",
    "from datetime import datetime\n",
    "import matplotlib.pyplot as plt\n",
    "\n",
    "import torch\n",
    "import torch.nn as nn\n",
    "from torchvision import datasets\n",
    "from torchvision.transforms import ToTensor\n",
    "\n",
    "from utils import inv_perm, RBF\n",
    "from unstructured_recognition_MazeCategorical import Net, UnstructuredRecognition, permute_prediction\n",
    "\n",
    "# Load MNIST\n",
    "train_data = datasets.MNIST(\n",
    "    root='data',\n",
    "    train=True,\n",
    "    transform=ToTensor(),\n",
    "    download=True,\n",
    "    )\n",
    "\n",
    "test_data = datasets.MNIST(\n",
    "    root='data',\n",
    "    train=False,\n",
    "    transform=ToTensor()\n",
    "    )\n"
   ]
  },
  {
   "cell_type": "markdown",
   "metadata": {},
   "source": [
    "## Use HMM transition to generate image trajectories"
   ]
  },
  {
   "cell_type": "code",
   "execution_count": 4,
   "metadata": {},
   "outputs": [],
   "source": [
    "\n",
    "# Random seeds\n",
    "np.random.seed(22)\n",
    "torch.manual_seed(22)\n",
    "\n",
    "# Keep Only some digits\n",
    "sub_ids = torch.tensor([0, 1, 2, 3, 4, 5, 6, 7, 8, 9])\n",
    "sub_ids = torch.tensor([0, 1, 2, 3, 4, 5])\n",
    "num_digits = len(sub_ids)\n",
    "\n",
    "# True Transition Matrix\n",
    "transition_matrix_true = RBF(sub_ids, sub_ids, 1, 1)\n",
    "transition_matrix_true = transition_matrix_true / torch.sum(transition_matrix_true, dim=1, keepdim=True)\n",
    "\n",
    "# True Initial Probabilities\n",
    "initial_prob = torch.ones(num_digits) / num_digits\n",
    "\n",
    "# T or trajectory length\n",
    "trajectory_length = 10000\n",
    "\n",
    "# Init a trajectory\n",
    "trajectory = torch.zeros(trajectory_length)\n",
    "\n",
    "# Sample initial State\n",
    "pi_cur = torch.distributions.categorical.Categorical(probs=initial_prob)\n",
    "di_cur = pi_cur.sample()\n",
    "\n",
    "# Store Current Digit\n",
    "trajectory[0] = di_cur\n",
    "\n",
    "# Sample full trajectory from initial state\n",
    "for t in range(trajectory_length-1):\n",
    "    pi_cur.probs = transition_matrix_true[di_cur]\n",
    "    di_cur = pi_cur.sample()\n",
    "    trajectory[t] = di_cur\n",
    "\n",
    "\n",
    "# Grasp MNIST dataset\n",
    "train_images = train_data.train_data\n",
    "train_labels = train_data.train_labels\n",
    "\n",
    "# Permute MNIST\n",
    "perm = torch.randperm(len(train_images))\n",
    "\n",
    "# Size Of each image\n",
    "image_size = train_images.shape[-1]\n",
    "\n",
    "# Init the full trajectory in term of images\n",
    "trajectory_image = torch.zeros(trajectory_length, image_size, image_size)\n",
    "\n",
    "# Init a compt to assign digits different digits each time\n",
    "comp = torch.zeros(num_digits)\n",
    "\n",
    "for t in range(trajectory_length):\n",
    "    # Current offset on comp\n",
    "    id_tmp = comp[trajectory[t].numpy().astype(int)].numpy().astype(int)\n",
    "\n",
    "    # Update offset\n",
    "    comp[trajectory[t].numpy().astype(int)] += 1\n",
    "\n",
    "    # Grasp images corresponding to current label\n",
    "    cur_id_indices = (train_labels == trajectory[t]).nonzero()\n",
    "\n",
    "    # Assign an image with offset if\n",
    "    if id_tmp>=len(cur_id_indices):\n",
    "        comp[trajectory[t].numpy().astype(int)] = 0\n",
    "        id_tmp = comp[trajectory[t].numpy().astype(int)].numpy().astype(int)\n",
    "        comp[trajectory[t].numpy().astype(int)] += 1\n",
    "\n",
    "    cur_id = cur_id_indices[id_tmp]\n",
    "\n",
    "    # Store Image\n",
    "    trajectory_image[t] = train_images[cur_id]\n"
   ]
  },
  {
   "cell_type": "markdown",
   "metadata": {},
   "source": [
    "## Plot subsection of a given trajectory"
   ]
  },
  {
   "cell_type": "code",
   "execution_count": 19,
   "metadata": {
    "pycharm": {
     "name": "#%% Summary of The Simulated Trajectory\n"
    }
   },
   "outputs": [
    {
     "data": {
      "image/png": "[encoded data removed]",
      "text/plain": [
       "<Figure size 1440x144 with 10 Axes>"
      ]
     },
     "metadata": {
      "needs_background": "light"
     },
     "output_type": "display_data"
    }
   ],
   "source": [
    "# Plot subsection of a given trajectory\n",
    "nmax = np.floor(np.sqrt(trajectory_length))\n",
    "\n",
    "xmax = 10\n",
    "ymax = 1\n",
    "offset = 30\n",
    "plt.figure(figsize=(xmax*2,ymax*2))\n",
    "for t in range(xmax*ymax):\n",
    "    plt.subplot(ymax, xmax, t+1)\n",
    "    plt.imshow(trajectory_image[t+offset], cmap='gray')\n",
    "    plt.axis('off')\n",
    "    #plt.title('t=' + str(t) + ' id=' + str(trajectory[t].numpy().astype(int)))\n",
    "    if t == 0:\n",
    "        plt.title('time ->')\n",
    "    "
   ]
  },
  {
   "cell_type": "code",
   "execution_count": 20,
   "metadata": {},
   "outputs": [
    {
     "data": {
      "text/plain": [
       "(-0.5, 5.5, 5.5, -0.5)"
      ]
     },
     "execution_count": 20,
     "metadata": {},
     "output_type": "execute_result"
    },
    {
     "data": {
      "image/png": "[encoded data removed]",
      "text/plain": [
       "<Figure size 432x432 with 4 Axes>"
      ]
     },
     "metadata": {
      "needs_background": "light"
     },
     "output_type": "display_data"
    }
   ],
   "source": [
    "\n",
    "rep_num = (trajectory.unsqueeze(0) == sub_ids.unsqueeze(1)).sum(1)\n",
    "transition_matrix_empirical = torch.zeros(num_digits, num_digits)\n",
    "for dig in range(num_digits):\n",
    "    idx = ((trajectory == sub_ids[dig]).nonzero())\n",
    "    idx = idx[idx != (trajectory_length-1)]\n",
    "    transi_counts = (trajectory[idx + 1].unsqueeze(1) == sub_ids.unsqueeze(0)).sum(0)\n",
    "    transi_counts = transi_counts / (torch.sum(transi_counts)+1e-7)\n",
    "    transition_matrix_empirical[dig] = transi_counts\n",
    "\n",
    "plt.figure(figsize=(6,6))\n",
    "plt.subplot(2, 2, 1)\n",
    "plt.plot(trajectorytrajectory_image[t+offset])\n",
    "plt.title('Trajectory')\n",
    "\n",
    "plt.subplot(2, 2, 2)\n",
    "plt.imshow(transition_matrix_true)\n",
    "plt.title('True Transition')\n",
    "plt.axis('off')\n",
    "\n",
    "plt.subplot(2, 2, 3)\n",
    "tarios = rep_num/trajectory_length\n",
    "plt.plot(tarios)\n",
    "plt.ylim([0, 1.1*max(tarios)])\n",
    "plt.title('Empirical Marginals')\n",
    "\n",
    "plt.subplot(2, 2, 4)\n",
    "plt.imshow(transition_matrix_empirical)\n",
    "plt.title('Empirical Transition')\n",
    "plt.axis('off')"
   ]
  },
  {
   "cell_type": "markdown",
   "metadata": {},
   "source": [
    "# Fit"
   ]
  },
  {
   "cell_type": "code",
   "execution_count": null,
   "metadata": {
    "pycharm": {
     "name": "#%% Init And Fit the model\n"
    }
   },
   "outputs": [],
   "source": [
    "# Fit Parameters\n",
    "fit_params = {\"ite_max\": 1000}\n",
    "\n",
    "# Init Model\n",
    "model = UnstructuredRecognition(num_digits, trajectory_image, fit_params=fit_params)\n",
    "\n",
    "# Fit model\n",
    "loss_tot = model.fit(trajectory_image)"
   ]
  },
  {
   "cell_type": "code",
   "execution_count": null,
   "metadata": {
    "pycharm": {
     "name": "#%% Save\n"
    }
   },
   "outputs": [],
   "source": [
    "import pickle\n",
    "# Save Model\n",
    "data_name = 'MNIST_MAZE_UR_model' + datetime.now().strftime(\"%Y_%M_%d_%Hh%Mm%Ss\") + '.pkl'\n",
    "print(\"date and time =\", data_name)\n",
    "with open(data_name, 'wb') as f:  # Python 3: open(..., 'wb')\n",
    "    pickle.dump([model, trajectory_image, trajectory, sub_ids, loss_tot, transition_matrix_true], f)\n"
   ]
  },
  {
   "cell_type": "code",
   "execution_count": null,
   "metadata": {
    "pycharm": {
     "name": "#%% Load\n"
    }
   },
   "outputs": [],
   "source": [
    "with open('MNIST_MAZE_UR_model2022_58_19_01h58m18s.pkl', 'rb') as f:\n",
    "    model, trajectory_image, trajectory, sub_ids, loss_tot, transition_matrix_true = pickle.load(f)\n",
    "\n",
    "\n"
   ]
  },
  {
   "cell_type": "markdown",
   "metadata": {},
   "source": [
    "## Permute state to match digit identity"
   ]
  },
  {
   "cell_type": "code",
   "execution_count": null,
   "metadata": {
    "pycharm": {
     "name": "#%% Rearranged the model states (degeneracies)\n"
    }
   },
   "outputs": [],
   "source": [
    "\n",
    "# Model fits\n",
    "latent_marginals, _ = model.latent\n",
    "transition_matrix = model.transition_matrix\n",
    "\n",
    "# Get variational-MAP trajectory\n",
    "most_likely_trajectory = torch.argmax(latent_marginals, dim=1)\n",
    "\n",
    "# Get Best State Permutation\n",
    "perm = permute_prediction(most_likely_trajectory, trajectory, sub_ids)\n",
    "\n",
    "\n",
    "# Permute Trajectory\n",
    "most_likely_trajectory = perm[most_likely_trajectory]\n",
    "\n",
    "# Permute Transition Matrix\n",
    "transition_matrix_perm = transition_matrix[inv_perm(perm)][:,inv_perm(perm)]\n",
    "#transition_matrix_perm = transition_matrix[perm][:,perm]\n",
    "\n"
   ]
  },
  {
   "cell_type": "markdown",
   "metadata": {},
   "source": [
    "## Plot results"
   ]
  },
  {
   "cell_type": "code",
   "execution_count": null,
   "metadata": {
    "pycharm": {
     "name": "#%% Plot results\n"
    }
   },
   "outputs": [],
   "source": [
    "plt.figure(figsize=(10, 10))\n",
    "\n",
    "# Loss\n",
    "plt.subplot(2, 2, 1)\n",
    "plt.plot(loss_tot, color='k')\n",
    "plt.xlabel('Iteration')\n",
    "plt.title('- Free Energy')\n",
    "\n",
    "# Transition True\n",
    "plt.subplot(2, 2, 3)\n",
    "plt.imshow(transition_matrix_true)\n",
    "plt.title('True Transition')\n",
    "plt.axis('off')\n",
    "\n",
    "# Transition Fit\n",
    "plt.subplot(2, 2, 4)\n",
    "plt.title('Fit Transition')\n",
    "plt.imshow(transition_matrix_perm.detach().numpy())\n",
    "plt.axis('off')\n",
    "\n",
    "# True and Fit Trajectories\n",
    "plt.subplot(2, 2, 2)\n",
    "plt.plot(trajectory, label='True', color='k', linewidth=4)\n",
    "plt.plot(most_likely_trajectory, label='MAP', color='orange', linestyle='dashed', linewidth=3)\n",
    "plt.xlim([0, 500])\n",
    "plt.title('Latent Trajectory')\n",
    "plt.xlabel('Step Number')\n",
    "plt.ylabel('Digit Id')\n",
    "\n",
    "\n",
    "print(1 - torch.sum((torch.abs((trajectory-most_likely_trajectory))>0)) / len(trajectory))\n"
   ]
  }
 ],
 "metadata": {
  "kernelspec": {
   "display_name": "cyu",
   "language": "python",
   "name": "cyu"
  },
  "language_info": {
   "codemirror_mode": {
    "name": "ipython",
    "version": 3
   },
   "file_extension": ".py",
   "mimetype": "text/x-python",
   "name": "python",
   "nbconvert_exporter": "python",
   "pygments_lexer": "ipython3",
   "version": "3.7.11"
  }
 },
 "nbformat": 4,
 "nbformat_minor": 1
}
